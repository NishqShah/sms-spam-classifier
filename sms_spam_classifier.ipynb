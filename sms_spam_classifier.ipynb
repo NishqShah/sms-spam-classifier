{
 "cells": [
  {
   "cell_type": "markdown",
   "id": "f2858bd9",
   "metadata": {},
   "source": [
    "#  Spam SMS Classification Using Machine Learning\n"
   ]
  },
  {
   "cell_type": "markdown",
   "id": "51ddafd7",
   "metadata": {},
   "source": [
    "## Project Overview\n",
    "\n",
    "This project aims to classify SMS messages as either spam or ham (non-spam) using machine learning techniques. The workflow includes preprocessing the text data, transforming it into numerical features using different vectorization methods, training various classifiers, and evaluating their performance.\n",
    "\n",
    "To enhance the model's real-world effectiveness, the training dataset was augmented with synthetic spam messages. These messages were generated with ChatGPT to simulate common phishing or scam content (e.g., fake giveaways, rewards, and promotions).\n"
   ]
  },
  {
   "cell_type": "code",
   "execution_count": 1,
   "id": "459685e1",
   "metadata": {},
   "outputs": [],
   "source": [
    "import pandas as pd \n",
    "import numpy as np \n",
    "import matplotlib.pyplot as plt \n",
    "import seaborn as sns \n",
    "%matplotlib inline\n"
   ]
  },
  {
   "cell_type": "markdown",
   "id": "a8447d6a",
   "metadata": {},
   "source": [
    "## Dataset Description\n",
    "\n",
    "The base dataset consists of SMS messages labeled as either \"spam\" or \"ham.\" These are typical messages received by users and serve as the foundation for model training.\n",
    "\n",
    "In addition to the original data, 25 synthetic spam messages were created using ChatGPT. These examples reflect modern spam trends and help improve the model's ability to generalize to unseen patterns.\n"
   ]
  },
  {
   "cell_type": "code",
   "execution_count": 2,
   "id": "7cf474f9",
   "metadata": {},
   "outputs": [],
   "source": [
    "data = pd.read_csv('spam.csv', encoding = 'latin1')"
   ]
  },
  {
   "cell_type": "code",
   "execution_count": 3,
   "id": "5874c2de",
   "metadata": {},
   "outputs": [
    {
     "data": {
      "text/html": [
       "<div>\n",
       "<style scoped>\n",
       "    .dataframe tbody tr th:only-of-type {\n",
       "        vertical-align: middle;\n",
       "    }\n",
       "\n",
       "    .dataframe tbody tr th {\n",
       "        vertical-align: top;\n",
       "    }\n",
       "\n",
       "    .dataframe thead th {\n",
       "        text-align: right;\n",
       "    }\n",
       "</style>\n",
       "<table border=\"1\" class=\"dataframe\">\n",
       "  <thead>\n",
       "    <tr style=\"text-align: right;\">\n",
       "      <th></th>\n",
       "      <th>v1</th>\n",
       "      <th>v2</th>\n",
       "      <th>Unnamed: 2</th>\n",
       "      <th>Unnamed: 3</th>\n",
       "      <th>Unnamed: 4</th>\n",
       "    </tr>\n",
       "  </thead>\n",
       "  <tbody>\n",
       "    <tr>\n",
       "      <th>0</th>\n",
       "      <td>ham</td>\n",
       "      <td>Go until jurong point, crazy.. Available only ...</td>\n",
       "      <td>NaN</td>\n",
       "      <td>NaN</td>\n",
       "      <td>NaN</td>\n",
       "    </tr>\n",
       "    <tr>\n",
       "      <th>1</th>\n",
       "      <td>ham</td>\n",
       "      <td>Ok lar... Joking wif u oni...</td>\n",
       "      <td>NaN</td>\n",
       "      <td>NaN</td>\n",
       "      <td>NaN</td>\n",
       "    </tr>\n",
       "    <tr>\n",
       "      <th>2</th>\n",
       "      <td>spam</td>\n",
       "      <td>Free entry in 2 a wkly comp to win FA Cup fina...</td>\n",
       "      <td>NaN</td>\n",
       "      <td>NaN</td>\n",
       "      <td>NaN</td>\n",
       "    </tr>\n",
       "    <tr>\n",
       "      <th>3</th>\n",
       "      <td>ham</td>\n",
       "      <td>U dun say so early hor... U c already then say...</td>\n",
       "      <td>NaN</td>\n",
       "      <td>NaN</td>\n",
       "      <td>NaN</td>\n",
       "    </tr>\n",
       "    <tr>\n",
       "      <th>4</th>\n",
       "      <td>ham</td>\n",
       "      <td>Nah I don't think he goes to usf, he lives aro...</td>\n",
       "      <td>NaN</td>\n",
       "      <td>NaN</td>\n",
       "      <td>NaN</td>\n",
       "    </tr>\n",
       "  </tbody>\n",
       "</table>\n",
       "</div>"
      ],
      "text/plain": [
       "     v1                                                 v2 Unnamed: 2  \\\n",
       "0   ham  Go until jurong point, crazy.. Available only ...        NaN   \n",
       "1   ham                      Ok lar... Joking wif u oni...        NaN   \n",
       "2  spam  Free entry in 2 a wkly comp to win FA Cup fina...        NaN   \n",
       "3   ham  U dun say so early hor... U c already then say...        NaN   \n",
       "4   ham  Nah I don't think he goes to usf, he lives aro...        NaN   \n",
       "\n",
       "  Unnamed: 3 Unnamed: 4  \n",
       "0        NaN        NaN  \n",
       "1        NaN        NaN  \n",
       "2        NaN        NaN  \n",
       "3        NaN        NaN  \n",
       "4        NaN        NaN  "
      ]
     },
     "execution_count": 3,
     "metadata": {},
     "output_type": "execute_result"
    }
   ],
   "source": [
    "data.head()"
   ]
  },
  {
   "cell_type": "code",
   "execution_count": 4,
   "id": "3f5a5721",
   "metadata": {},
   "outputs": [],
   "source": [
    "data = data.drop(['Unnamed: 2','Unnamed: 3','Unnamed: 4'] , axis=1)"
   ]
  },
  {
   "cell_type": "code",
   "execution_count": 5,
   "id": "a4c7cfe9",
   "metadata": {},
   "outputs": [
    {
     "data": {
      "text/html": [
       "<div>\n",
       "<style scoped>\n",
       "    .dataframe tbody tr th:only-of-type {\n",
       "        vertical-align: middle;\n",
       "    }\n",
       "\n",
       "    .dataframe tbody tr th {\n",
       "        vertical-align: top;\n",
       "    }\n",
       "\n",
       "    .dataframe thead th {\n",
       "        text-align: right;\n",
       "    }\n",
       "</style>\n",
       "<table border=\"1\" class=\"dataframe\">\n",
       "  <thead>\n",
       "    <tr style=\"text-align: right;\">\n",
       "      <th></th>\n",
       "      <th>v1</th>\n",
       "      <th>v2</th>\n",
       "    </tr>\n",
       "  </thead>\n",
       "  <tbody>\n",
       "    <tr>\n",
       "      <th>0</th>\n",
       "      <td>ham</td>\n",
       "      <td>Go until jurong point, crazy.. Available only ...</td>\n",
       "    </tr>\n",
       "    <tr>\n",
       "      <th>1</th>\n",
       "      <td>ham</td>\n",
       "      <td>Ok lar... Joking wif u oni...</td>\n",
       "    </tr>\n",
       "    <tr>\n",
       "      <th>2</th>\n",
       "      <td>spam</td>\n",
       "      <td>Free entry in 2 a wkly comp to win FA Cup fina...</td>\n",
       "    </tr>\n",
       "    <tr>\n",
       "      <th>3</th>\n",
       "      <td>ham</td>\n",
       "      <td>U dun say so early hor... U c already then say...</td>\n",
       "    </tr>\n",
       "    <tr>\n",
       "      <th>4</th>\n",
       "      <td>ham</td>\n",
       "      <td>Nah I don't think he goes to usf, he lives aro...</td>\n",
       "    </tr>\n",
       "  </tbody>\n",
       "</table>\n",
       "</div>"
      ],
      "text/plain": [
       "     v1                                                 v2\n",
       "0   ham  Go until jurong point, crazy.. Available only ...\n",
       "1   ham                      Ok lar... Joking wif u oni...\n",
       "2  spam  Free entry in 2 a wkly comp to win FA Cup fina...\n",
       "3   ham  U dun say so early hor... U c already then say...\n",
       "4   ham  Nah I don't think he goes to usf, he lives aro..."
      ]
     },
     "execution_count": 5,
     "metadata": {},
     "output_type": "execute_result"
    }
   ],
   "source": [
    "data.head()"
   ]
  },
  {
   "cell_type": "code",
   "execution_count": 6,
   "id": "86aa61e5",
   "metadata": {},
   "outputs": [
    {
     "data": {
      "text/html": [
       "<div>\n",
       "<style scoped>\n",
       "    .dataframe tbody tr th:only-of-type {\n",
       "        vertical-align: middle;\n",
       "    }\n",
       "\n",
       "    .dataframe tbody tr th {\n",
       "        vertical-align: top;\n",
       "    }\n",
       "\n",
       "    .dataframe thead tr th {\n",
       "        text-align: left;\n",
       "    }\n",
       "\n",
       "    .dataframe thead tr:last-of-type th {\n",
       "        text-align: right;\n",
       "    }\n",
       "</style>\n",
       "<table border=\"1\" class=\"dataframe\">\n",
       "  <thead>\n",
       "    <tr>\n",
       "      <th></th>\n",
       "      <th colspan=\"8\" halign=\"left\">length</th>\n",
       "    </tr>\n",
       "    <tr>\n",
       "      <th></th>\n",
       "      <th>count</th>\n",
       "      <th>mean</th>\n",
       "      <th>std</th>\n",
       "      <th>min</th>\n",
       "      <th>25%</th>\n",
       "      <th>50%</th>\n",
       "      <th>75%</th>\n",
       "      <th>max</th>\n",
       "    </tr>\n",
       "    <tr>\n",
       "      <th>v1</th>\n",
       "      <th></th>\n",
       "      <th></th>\n",
       "      <th></th>\n",
       "      <th></th>\n",
       "      <th></th>\n",
       "      <th></th>\n",
       "      <th></th>\n",
       "      <th></th>\n",
       "    </tr>\n",
       "  </thead>\n",
       "  <tbody>\n",
       "    <tr>\n",
       "      <th>ham</th>\n",
       "      <td>4825.0</td>\n",
       "      <td>71.023627</td>\n",
       "      <td>58.016023</td>\n",
       "      <td>2.0</td>\n",
       "      <td>33.0</td>\n",
       "      <td>52.0</td>\n",
       "      <td>92.0</td>\n",
       "      <td>910.0</td>\n",
       "    </tr>\n",
       "    <tr>\n",
       "      <th>spam</th>\n",
       "      <td>747.0</td>\n",
       "      <td>138.866131</td>\n",
       "      <td>29.183082</td>\n",
       "      <td>13.0</td>\n",
       "      <td>132.5</td>\n",
       "      <td>149.0</td>\n",
       "      <td>157.0</td>\n",
       "      <td>224.0</td>\n",
       "    </tr>\n",
       "  </tbody>\n",
       "</table>\n",
       "</div>"
      ],
      "text/plain": [
       "      length                                                         \n",
       "       count        mean        std   min    25%    50%    75%    max\n",
       "v1                                                                   \n",
       "ham   4825.0   71.023627  58.016023   2.0   33.0   52.0   92.0  910.0\n",
       "spam   747.0  138.866131  29.183082  13.0  132.5  149.0  157.0  224.0"
      ]
     },
     "execution_count": 6,
     "metadata": {},
     "output_type": "execute_result"
    }
   ],
   "source": [
    "data['length'] = data['v2'].apply(len)\n",
    "data.groupby('v1').describe()"
   ]
  },
  {
   "cell_type": "code",
   "execution_count": 7,
   "id": "9235e732",
   "metadata": {},
   "outputs": [
    {
     "name": "stderr",
     "output_type": "stream",
     "text": [
      "C:\\Users\\Nisq\\AppData\\Local\\Temp\\ipykernel_18140\\653590105.py:2: FutureWarning: \n",
      "\n",
      "Passing `palette` without assigning `hue` is deprecated and will be removed in v0.14.0. Assign the `x` variable to `hue` and set `legend=False` for the same effect.\n",
      "\n",
      "  sns.countplot(data=data, x='v1', palette='Set2')\n"
     ]
    },
    {
     "data": {
      "image/png": "[encoded data removed]",
      "text/plain": [
       "<Figure size 1400x600 with 1 Axes>"
      ]
     },
     "metadata": {},
     "output_type": "display_data"
    }
   ],
   "source": [
    "plt.figure(figsize=(14,6))\n",
    "sns.countplot(data=data, x='v1', palette='Set2')\n",
    "plt.title('Distribution of Spam vs Ham')\n",
    "plt.xlabel('Message Type')\n",
    "plt.ylabel('Count')\n",
    "plt.show()"
   ]
  },
  {
   "cell_type": "code",
   "execution_count": 8,
   "id": "db04c487",
   "metadata": {},
   "outputs": [
    {
     "data": {
      "image/png": "[encoded data removed]",
      "text/plain": [
       "<Figure size 1200x600 with 1 Axes>"
      ]
     },
     "metadata": {},
     "output_type": "display_data"
    }
   ],
   "source": [
    "data['length'] = data['v2'].apply(len)\n",
    "\n",
    "plt.figure(figsize=(12,6))\n",
    "sns.histplot(data=data, x='length', hue='v1', bins=50, kde=True)\n",
    "plt.title('Distribution of Message Lengths (Ham vs Spam)')\n",
    "plt.show()\n"
   ]
  },
  {
   "cell_type": "markdown",
   "id": "97114fb8",
   "metadata": {},
   "source": [
    "## Data Preprocessing\n",
    "\n",
    "Before training, the SMS text data is cleaned and normalized through several steps:\n",
    "- Lowercasing all text\n",
    "- Removing punctuation, digits, and special characters\n",
    "- Removing stopwords\n",
    "- Tokenizing and lemmatizing words\n",
    "\n",
    "These steps help reduce noise and standardize the input for vectorization. A reusable preprocessing function is created and saved for future predictions.\n"
   ]
  },
  {
   "cell_type": "code",
   "execution_count": 9,
   "id": "ccc78bba",
   "metadata": {},
   "outputs": [],
   "source": [
    "import re\n",
    "import nltk\n",
    "from nltk.corpus import stopwords\n",
    "from nltk.stem import PorterStemmer"
   ]
  },
  {
   "cell_type": "code",
   "execution_count": null,
   "id": "a1211b10",
   "metadata": {},
   "outputs": [
    {
     "name": "stderr",
     "output_type": "stream",
     "text": [
      "[nltk_data] Downloading package stopwords to\n",
      "[nltk_data]     C:\\Users\\Nisq\\AppData\\Roaming\\nltk_data...\n",
      "[nltk_data]   Package stopwords is already up-to-date!\n"
     ]
    }
   ],
   "source": [
    "nltk.download('stopwords')\n",
    "\n",
    "stop_words = set(stopwords.words('english'))\n",
    "\n",
    "stemmer = PorterStemmer()\n",
    "\n",
    "def preprocess_text(text):\n",
    "    text = text.lower()\n",
    "    \n",
    "    text = re.sub(r'[^\\w\\s]', '', text)\n",
    "    \n",
    "    text = re.sub(r'\\d+', '', text)\n",
    "    \n",
    "    tokens = text.split()\n",
    "    \n",
    "    tokens = [word for word in tokens if word not in stop_words]\n",
    "    \n",
    "    tokens = [stemmer.stem(word) for word in tokens]\n",
    "    \n",
    "    return ' '.join(tokens)\n"
   ]
  },
  {
   "cell_type": "code",
   "execution_count": 11,
   "id": "8be9db19",
   "metadata": {},
   "outputs": [],
   "source": [
    "data = pd.read_csv(\"spam.csv\", encoding=\"latin-1\")[['v1', 'v2']]\n",
    "data['v2'] = data['v2'].apply(preprocess_text)"
   ]
  },
  {
   "cell_type": "markdown",
   "id": "1385696a",
   "metadata": {},
   "source": [
    "## Feature Engineering: Text Vectorization\n",
    "\n",
    "To convert text data into numerical features, the following vectorization techniques were used:\n",
    "- CountVectorizer\n",
    "- TfidfVectorizer\n",
    "\n",
    "HashingVectorizer was initially considered but removed due to its incompatibility with inverse transforms needed for predictions. The goal was to compare different vectorizers and evaluate which one works best with various classifiers.\n"
   ]
  },
  {
   "cell_type": "code",
   "execution_count": 12,
   "id": "8864838f",
   "metadata": {},
   "outputs": [
    {
     "name": "stdout",
     "output_type": "stream",
     "text": [
      "Requirement already satisfied: tqdm in c:\\users\\nisq\\anaconda3\\envs\\tf\\lib\\site-packages (4.67.1)\n",
      "Requirement already satisfied: colorama in c:\\users\\nisq\\anaconda3\\envs\\tf\\lib\\site-packages (from tqdm) (0.4.6)\n"
     ]
    }
   ],
   "source": [
    "import pandas as pd\n",
    "from sklearn.model_selection import train_test_split\n",
    "from sklearn.metrics import classification_report, accuracy_score,confusion_matrix\n",
    "from sklearn.naive_bayes import BernoulliNB,MultinomialNB\n",
    "from sklearn.ensemble import RandomForestClassifier, AdaBoostClassifier, BaggingClassifier, ExtraTreesClassifier, GradientBoostingClassifier\n",
    "from sklearn.tree import DecisionTreeClassifier\n",
    "from sklearn.calibration import CalibratedClassifierCV\n",
    "from sklearn.dummy import DummyClassifier\n",
    "from sklearn.linear_model import PassiveAggressiveClassifier, RidgeClassifier, RidgeClassifierCV, SGDClassifier, LogisticRegression\n",
    "from sklearn.multiclass import OneVsRestClassifier\n",
    "from sklearn.svm import SVC\n",
    "from sklearn.neighbors import KNeighborsClassifier\n",
    "from sklearn.feature_extraction.text import CountVectorizer, TfidfVectorizer, HashingVectorizer\n",
    "!pip install tqdm\n",
    "from tqdm import tqdm  # progress bar"
   ]
  },
  {
   "cell_type": "code",
   "execution_count": 13,
   "id": "6ba19a4a",
   "metadata": {},
   "outputs": [],
   "source": [
    "train_data,test_data = train_test_split(data, test_size=0.2, random_state=42,stratify=data['v1'])"
   ]
  },
  {
   "cell_type": "code",
   "execution_count": 14,
   "id": "0de157df",
   "metadata": {},
   "outputs": [],
   "source": [
    "# List of new spam messages\n",
    "new_spam_messages = [\n",
    "    \"Congratulations! You've been selected to win a FREE iPhone 14. Answer this quick survey to claim.\",\n",
    "    \"Complete our short survey and win a brand new MacBook Air. Limited time only!\",\n",
    "    \"You're the lucky winner of a $1000 Amazon gift card! Click here to collect.\",\n",
    "    \"Win exclusive rewards! Participate in our short quiz now.\",\n",
    "    \"Get a free iPhone for just answering 3 simple questions. Tap to start!\",\n",
    "    \"Free Galaxy S22 for you! Take this quick 30-second survey to qualify.\",\n",
    "    \"Claim your FREE reward now! This offer expires today.\",\n",
    "    \"You’re pre-approved for a FREE smartwatch. Click to register now!\",\n",
    "    \"Act fast! Your chance to win an iPad ends tonight. Complete the survey.\",\n",
    "    \"You've won a free gift card. Confirm your details here.\",\n",
    "    \"Final chance! Redeem your prize before midnight.\",\n",
    "    \"Get a brand-new laptop by answering a few questions. Start here!\",\n",
    "    \"Hurry! iPhone 15 giveaway for first 100 responders. Click now.\",\n",
    "    \"You qualify for a free Netflix subscription. Take the survey to activate.\",\n",
    "    \"$500 Walmart gift card waiting for you! Just confirm your entry.\",\n",
    "    \"Want a new phone? Join our contest and stand a chance to win!\",\n",
    "    \"You’re chosen for our loyalty giveaway. Click here to proceed.\",\n",
    "    \"You’ve earned a free vacation package. Confirm your email now.\",\n",
    "    \"Be the next winner of our luxury giveaway. Tap the link now.\",\n",
    "    \"Your number was drawn in our sweepstakes. Claim your prize now.\",\n",
    "    \"One-time offer! Complete our form to win an iPad Mini.\",\n",
    "    \"Your FREE Apple Watch is waiting! Click to claim today.\",\n",
    "    \"Congrats! You’ve won 1 year of free Spotify Premium.\",\n",
    "    \"Don't miss out! This survey unlocks amazing prizes.\",\n",
    "    \"Grab your reward now – it's only one step away!\"\n",
    "]\n",
    "\n",
    "# Create DataFrame from new spam\n",
    "new_spam_df = pd.DataFrame({'v1': 'spam', 'v2': new_spam_messages})\n",
    "\n",
    "# Append to train_data\n",
    "train_data = pd.concat([train_data, new_spam_df], ignore_index=True)"
   ]
  },
  {
   "cell_type": "markdown",
   "id": "252a3b9a",
   "metadata": {},
   "source": [
    "## Model Training and Evaluation\n",
    "\n",
    "Several classification algorithms were tested with different vectorization techniques to find the most effective combination. These include:\n",
    "- Multinomial Naive Bayes\n",
    "- SGDClassifier\n",
    "- Logistic Regression\n",
    "- Others from scikit-learn\n",
    "\n",
    "Each combination was evaluated using accuracy, precision, recall, F1 score, and confusion matrices. The results were ranked, and the top-performing model was saved for deployment.\n"
   ]
  },
  {
   "cell_type": "code",
   "execution_count": 15,
   "id": "57e7d127",
   "metadata": {},
   "outputs": [],
   "source": [
    "classifiers = [\n",
    "    MultinomialNB(),\n",
    "    BernoulliNB(),\n",
    "    RandomForestClassifier(),\n",
    "    AdaBoostClassifier(),\n",
    "    BaggingClassifier(),\n",
    "    ExtraTreesClassifier(),\n",
    "    GradientBoostingClassifier(),\n",
    "    DecisionTreeClassifier(),\n",
    "    CalibratedClassifierCV(),\n",
    "    DummyClassifier(),\n",
    "    PassiveAggressiveClassifier(),\n",
    "    RidgeClassifier(),\n",
    "    RidgeClassifierCV(),\n",
    "    SGDClassifier(),\n",
    "    OneVsRestClassifier(SVC(kernel = 'linear',probability=True)),\n",
    "    OneVsRestClassifier(LogisticRegression(max_iter=1000)),\n",
    "    KNeighborsClassifier()\n",
    "]\n",
    "\n",
    "vectorizers = [\n",
    "    CountVectorizer(),\n",
    "    TfidfVectorizer()\n",
    "]\n",
    "\n",
    "results =[]"
   ]
  },
  {
   "cell_type": "code",
   "execution_count": 16,
   "id": "3787f3a9",
   "metadata": {},
   "outputs": [
    {
     "name": "stderr",
     "output_type": "stream",
     "text": [
      "Classifiers:   0%|          | 0/17 [00:00<?, ?it/s]"
     ]
    },
    {
     "name": "stderr",
     "output_type": "stream",
     "text": [
      "Classifiers:   6%|▌         | 1/17 [00:00<00:03,  5.23it/s]"
     ]
    },
    {
     "name": "stdout",
     "output_type": "stream",
     "text": [
      "\n",
      "MultinomialNB with CountVectorizer -> Accuracy: 0.9785\n",
      "              precision    recall  f1-score   support\n",
      "\n",
      "         ham       0.98      0.99      0.99       966\n",
      "        spam       0.95      0.89      0.92       149\n",
      "\n",
      "    accuracy                           0.98      1115\n",
      "   macro avg       0.97      0.94      0.95      1115\n",
      "weighted avg       0.98      0.98      0.98      1115\n",
      "\n",
      "[[959   7]\n",
      " [ 17 132]]\n",
      "\n",
      "MultinomialNB with TfidfVectorizer -> Accuracy: 0.9641\n",
      "              precision    recall  f1-score   support\n",
      "\n",
      "         ham       0.96      1.00      0.98       966\n",
      "        spam       0.99      0.74      0.85       149\n",
      "\n",
      "    accuracy                           0.96      1115\n",
      "   macro avg       0.98      0.87      0.91      1115\n",
      "weighted avg       0.97      0.96      0.96      1115\n",
      "\n",
      "[[965   1]\n",
      " [ 39 110]]\n",
      "\n",
      "BernoulliNB with CountVectorizer -> Accuracy: 0.9704\n",
      "              precision    recall  f1-score   support\n",
      "\n",
      "         ham       0.97      1.00      0.98       966\n",
      "        spam       0.98      0.79      0.88       149\n",
      "\n",
      "    accuracy                           0.97      1115\n",
      "   macro avg       0.98      0.89      0.93      1115\n",
      "weighted avg       0.97      0.97      0.97      1115\n",
      "\n"
     ]
    },
    {
     "name": "stderr",
     "output_type": "stream",
     "text": [
      "Classifiers:  12%|█▏        | 2/17 [00:00<00:02,  5.33it/s]"
     ]
    },
    {
     "name": "stdout",
     "output_type": "stream",
     "text": [
      "[[964   2]\n",
      " [ 31 118]]\n",
      "\n",
      "BernoulliNB with TfidfVectorizer -> Accuracy: 0.9704\n",
      "              precision    recall  f1-score   support\n",
      "\n",
      "         ham       0.97      1.00      0.98       966\n",
      "        spam       0.98      0.79      0.88       149\n",
      "\n",
      "    accuracy                           0.97      1115\n",
      "   macro avg       0.98      0.89      0.93      1115\n",
      "weighted avg       0.97      0.97      0.97      1115\n",
      "\n",
      "[[964   2]\n",
      " [ 31 118]]\n",
      "\n",
      "RandomForestClassifier with CountVectorizer -> Accuracy: 0.9740\n",
      "              precision    recall  f1-score   support\n",
      "\n",
      "         ham       0.97      1.00      0.99       966\n",
      "        spam       1.00      0.81      0.89       149\n",
      "\n",
      "    accuracy                           0.97      1115\n",
      "   macro avg       0.99      0.90      0.94      1115\n",
      "weighted avg       0.97      0.97      0.97      1115\n",
      "\n",
      "[[966   0]\n",
      " [ 29 120]]\n"
     ]
    },
    {
     "name": "stderr",
     "output_type": "stream",
     "text": [
      "Classifiers:  18%|█▊        | 3/17 [00:04<00:24,  1.77s/it]"
     ]
    },
    {
     "name": "stdout",
     "output_type": "stream",
     "text": [
      "\n",
      "RandomForestClassifier with TfidfVectorizer -> Accuracy: 0.9722\n",
      "              precision    recall  f1-score   support\n",
      "\n",
      "         ham       0.97      1.00      0.98       966\n",
      "        spam       0.99      0.80      0.88       149\n",
      "\n",
      "    accuracy                           0.97      1115\n",
      "   macro avg       0.98      0.90      0.93      1115\n",
      "weighted avg       0.97      0.97      0.97      1115\n",
      "\n",
      "[[965   1]\n",
      " [ 30 119]]\n",
      "\n",
      "AdaBoostClassifier with CountVectorizer -> Accuracy: 0.9265\n",
      "              precision    recall  f1-score   support\n",
      "\n",
      "         ham       0.92      1.00      0.96       966\n",
      "        spam       0.96      0.47      0.63       149\n",
      "\n",
      "    accuracy                           0.93      1115\n",
      "   macro avg       0.94      0.73      0.79      1115\n",
      "weighted avg       0.93      0.93      0.92      1115\n",
      "\n",
      "[[963   3]\n",
      " [ 79  70]]\n"
     ]
    },
    {
     "name": "stderr",
     "output_type": "stream",
     "text": [
      "Classifiers:  24%|██▎       | 4/17 [00:06<00:28,  2.22s/it]"
     ]
    },
    {
     "name": "stdout",
     "output_type": "stream",
     "text": [
      "\n",
      "AdaBoostClassifier with TfidfVectorizer -> Accuracy: 0.9345\n",
      "              precision    recall  f1-score   support\n",
      "\n",
      "         ham       0.94      0.99      0.96       966\n",
      "        spam       0.90      0.58      0.70       149\n",
      "\n",
      "    accuracy                           0.93      1115\n",
      "   macro avg       0.92      0.78      0.83      1115\n",
      "weighted avg       0.93      0.93      0.93      1115\n",
      "\n",
      "[[956  10]\n",
      " [ 63  86]]\n",
      "\n",
      "BaggingClassifier with CountVectorizer -> Accuracy: 0.9704\n",
      "              precision    recall  f1-score   support\n",
      "\n",
      "         ham       0.97      0.99      0.98       966\n",
      "        spam       0.94      0.83      0.88       149\n",
      "\n",
      "    accuracy                           0.97      1115\n",
      "   macro avg       0.96      0.91      0.93      1115\n",
      "weighted avg       0.97      0.97      0.97      1115\n",
      "\n",
      "[[958   8]\n",
      " [ 25 124]]\n"
     ]
    },
    {
     "name": "stderr",
     "output_type": "stream",
     "text": [
      "Classifiers:  29%|██▉       | 5/17 [00:13<00:47,  3.95s/it]"
     ]
    },
    {
     "name": "stdout",
     "output_type": "stream",
     "text": [
      "\n",
      "BaggingClassifier with TfidfVectorizer -> Accuracy: 0.9704\n",
      "              precision    recall  f1-score   support\n",
      "\n",
      "         ham       0.98      0.99      0.98       966\n",
      "        spam       0.93      0.85      0.88       149\n",
      "\n",
      "    accuracy                           0.97      1115\n",
      "   macro avg       0.95      0.92      0.93      1115\n",
      "weighted avg       0.97      0.97      0.97      1115\n",
      "\n",
      "[[956  10]\n",
      " [ 23 126]]\n",
      "\n",
      "ExtraTreesClassifier with CountVectorizer -> Accuracy: 0.9740\n",
      "              precision    recall  f1-score   support\n",
      "\n",
      "         ham       0.97      1.00      0.99       966\n",
      "        spam       0.99      0.81      0.89       149\n",
      "\n",
      "    accuracy                           0.97      1115\n",
      "   macro avg       0.98      0.91      0.94      1115\n",
      "weighted avg       0.97      0.97      0.97      1115\n",
      "\n",
      "[[965   1]\n",
      " [ 28 121]]\n"
     ]
    },
    {
     "name": "stderr",
     "output_type": "stream",
     "text": [
      "Classifiers:  35%|███▌      | 6/17 [00:20<00:54,  4.96s/it]"
     ]
    },
    {
     "name": "stdout",
     "output_type": "stream",
     "text": [
      "\n",
      "ExtraTreesClassifier with TfidfVectorizer -> Accuracy: 0.9785\n",
      "              precision    recall  f1-score   support\n",
      "\n",
      "         ham       0.98      1.00      0.99       966\n",
      "        spam       0.99      0.85      0.91       149\n",
      "\n",
      "    accuracy                           0.98      1115\n",
      "   macro avg       0.98      0.92      0.95      1115\n",
      "weighted avg       0.98      0.98      0.98      1115\n",
      "\n",
      "[[965   1]\n",
      " [ 23 126]]\n",
      "\n",
      "GradientBoostingClassifier with CountVectorizer -> Accuracy: 0.9578\n",
      "              precision    recall  f1-score   support\n",
      "\n",
      "         ham       0.96      0.99      0.98       966\n",
      "        spam       0.96      0.72      0.82       149\n",
      "\n",
      "    accuracy                           0.96      1115\n",
      "   macro avg       0.96      0.86      0.90      1115\n",
      "weighted avg       0.96      0.96      0.96      1115\n",
      "\n",
      "[[961   5]\n",
      " [ 42 107]]\n"
     ]
    },
    {
     "name": "stderr",
     "output_type": "stream",
     "text": [
      "Classifiers:  41%|████      | 7/17 [00:24<00:46,  4.68s/it]"
     ]
    },
    {
     "name": "stdout",
     "output_type": "stream",
     "text": [
      "\n",
      "GradientBoostingClassifier with TfidfVectorizer -> Accuracy: 0.9605\n",
      "              precision    recall  f1-score   support\n",
      "\n",
      "         ham       0.96      0.99      0.98       966\n",
      "        spam       0.94      0.75      0.84       149\n",
      "\n",
      "    accuracy                           0.96      1115\n",
      "   macro avg       0.95      0.87      0.91      1115\n",
      "weighted avg       0.96      0.96      0.96      1115\n",
      "\n",
      "[[959   7]\n",
      " [ 37 112]]\n",
      "\n",
      "DecisionTreeClassifier with CountVectorizer -> Accuracy: 0.9659\n",
      "              precision    recall  f1-score   support\n",
      "\n",
      "         ham       0.97      0.99      0.98       966\n",
      "        spam       0.91      0.83      0.87       149\n",
      "\n",
      "    accuracy                           0.97      1115\n",
      "   macro avg       0.94      0.91      0.92      1115\n",
      "weighted avg       0.97      0.97      0.97      1115\n",
      "\n",
      "[[953  13]\n",
      " [ 25 124]]\n"
     ]
    },
    {
     "name": "stderr",
     "output_type": "stream",
     "text": [
      "Classifiers:  47%|████▋     | 8/17 [00:26<00:31,  3.53s/it]"
     ]
    },
    {
     "name": "stdout",
     "output_type": "stream",
     "text": [
      "\n",
      "DecisionTreeClassifier with TfidfVectorizer -> Accuracy: 0.9596\n",
      "              precision    recall  f1-score   support\n",
      "\n",
      "         ham       0.97      0.98      0.98       966\n",
      "        spam       0.87      0.82      0.84       149\n",
      "\n",
      "    accuracy                           0.96      1115\n",
      "   macro avg       0.92      0.90      0.91      1115\n",
      "weighted avg       0.96      0.96      0.96      1115\n",
      "\n",
      "[[948  18]\n",
      " [ 27 122]]\n",
      "\n",
      "CalibratedClassifierCV with CountVectorizer -> Accuracy: 0.9857\n",
      "              precision    recall  f1-score   support\n",
      "\n",
      "         ham       0.98      1.00      0.99       966\n",
      "        spam       1.00      0.89      0.94       149\n",
      "\n",
      "    accuracy                           0.99      1115\n",
      "   macro avg       0.99      0.95      0.97      1115\n",
      "weighted avg       0.99      0.99      0.99      1115\n",
      "\n",
      "[[966   0]\n",
      " [ 16 133]]\n",
      "\n",
      "CalibratedClassifierCV with TfidfVectorizer -> Accuracy: 0.9848\n"
     ]
    },
    {
     "name": "stderr",
     "output_type": "stream",
     "text": [
      "Classifiers:  53%|█████▎    | 9/17 [00:26<00:20,  2.61s/it]"
     ]
    },
    {
     "name": "stdout",
     "output_type": "stream",
     "text": [
      "              precision    recall  f1-score   support\n",
      "\n",
      "         ham       0.99      1.00      0.99       966\n",
      "        spam       0.97      0.91      0.94       149\n",
      "\n",
      "    accuracy                           0.98      1115\n",
      "   macro avg       0.98      0.95      0.97      1115\n",
      "weighted avg       0.98      0.98      0.98      1115\n",
      "\n",
      "[[962   4]\n",
      " [ 13 136]]\n",
      "\n",
      "DummyClassifier with CountVectorizer -> Accuracy: 0.8664\n",
      "              precision    recall  f1-score   support\n",
      "\n",
      "         ham       0.87      1.00      0.93       966\n",
      "        spam       0.00      0.00      0.00       149\n",
      "\n",
      "    accuracy                           0.87      1115\n",
      "   macro avg       0.43      0.50      0.46      1115\n",
      "weighted avg       0.75      0.87      0.80      1115\n",
      "\n",
      "[[966   0]\n",
      " [149   0]]\n"
     ]
    },
    {
     "name": "stderr",
     "output_type": "stream",
     "text": [
      "Classifiers:  59%|█████▉    | 10/17 [00:26<00:13,  1.90s/it]"
     ]
    },
    {
     "name": "stdout",
     "output_type": "stream",
     "text": [
      "\n",
      "DummyClassifier with TfidfVectorizer -> Accuracy: 0.8664\n",
      "              precision    recall  f1-score   support\n",
      "\n",
      "         ham       0.87      1.00      0.93       966\n",
      "        spam       0.00      0.00      0.00       149\n",
      "\n",
      "    accuracy                           0.87      1115\n",
      "   macro avg       0.43      0.50      0.46      1115\n",
      "weighted avg       0.75      0.87      0.80      1115\n",
      "\n",
      "[[966   0]\n",
      " [149   0]]\n",
      "\n",
      "PassiveAggressiveClassifier with CountVectorizer -> Accuracy: 0.9803\n",
      "              precision    recall  f1-score   support\n",
      "\n",
      "         ham       0.98      1.00      0.99       966\n",
      "        spam       0.97      0.88      0.92       149\n",
      "\n",
      "    accuracy                           0.98      1115\n",
      "   macro avg       0.98      0.94      0.96      1115\n",
      "weighted avg       0.98      0.98      0.98      1115\n",
      "\n",
      "[[962   4]\n",
      " [ 18 131]]\n",
      "\n",
      "PassiveAggressiveClassifier with TfidfVectorizer -> Accuracy: 0.9839\n"
     ]
    },
    {
     "name": "stderr",
     "output_type": "stream",
     "text": [
      "Classifiers:  65%|██████▍   | 11/17 [00:27<00:08,  1.45s/it]"
     ]
    },
    {
     "name": "stdout",
     "output_type": "stream",
     "text": [
      "              precision    recall  f1-score   support\n",
      "\n",
      "         ham       0.99      1.00      0.99       966\n",
      "        spam       0.97      0.91      0.94       149\n",
      "\n",
      "    accuracy                           0.98      1115\n",
      "   macro avg       0.98      0.95      0.96      1115\n",
      "weighted avg       0.98      0.98      0.98      1115\n",
      "\n",
      "[[962   4]\n",
      " [ 14 135]]\n",
      "\n",
      "RidgeClassifier with CountVectorizer -> Accuracy: 0.9785\n",
      "              precision    recall  f1-score   support\n",
      "\n",
      "         ham       0.98      1.00      0.99       966\n",
      "        spam       0.99      0.85      0.91       149\n",
      "\n",
      "    accuracy                           0.98      1115\n",
      "   macro avg       0.98      0.92      0.95      1115\n",
      "weighted avg       0.98      0.98      0.98      1115\n",
      "\n",
      "[[965   1]\n",
      " [ 23 126]]\n",
      "\n",
      "RidgeClassifier with TfidfVectorizer -> Accuracy: 0.9794\n"
     ]
    },
    {
     "name": "stderr",
     "output_type": "stream",
     "text": [
      "Classifiers:  71%|███████   | 12/17 [00:27<00:05,  1.14s/it]"
     ]
    },
    {
     "name": "stdout",
     "output_type": "stream",
     "text": [
      "              precision    recall  f1-score   support\n",
      "\n",
      "         ham       0.98      1.00      0.99       966\n",
      "        spam       0.98      0.87      0.92       149\n",
      "\n",
      "    accuracy                           0.98      1115\n",
      "   macro avg       0.98      0.93      0.95      1115\n",
      "weighted avg       0.98      0.98      0.98      1115\n",
      "\n",
      "[[963   3]\n",
      " [ 20 129]]\n",
      "\n",
      "RidgeClassifierCV with CountVectorizer -> Accuracy: 0.9785\n",
      "              precision    recall  f1-score   support\n",
      "\n",
      "         ham       0.98      1.00      0.99       966\n",
      "        spam       0.99      0.85      0.91       149\n",
      "\n",
      "    accuracy                           0.98      1115\n",
      "   macro avg       0.98      0.92      0.95      1115\n",
      "weighted avg       0.98      0.98      0.98      1115\n",
      "\n",
      "[[965   1]\n",
      " [ 23 126]]\n"
     ]
    },
    {
     "name": "stderr",
     "output_type": "stream",
     "text": [
      "Classifiers:  82%|████████▏ | 14/17 [01:03<00:24,  8.11s/it]"
     ]
    },
    {
     "name": "stdout",
     "output_type": "stream",
     "text": [
      "\n",
      "RidgeClassifierCV with TfidfVectorizer -> Accuracy: 0.9821\n",
      "              precision    recall  f1-score   support\n",
      "\n",
      "         ham       0.98      1.00      0.99       966\n",
      "        spam       0.98      0.88      0.93       149\n",
      "\n",
      "    accuracy                           0.98      1115\n",
      "   macro avg       0.98      0.94      0.96      1115\n",
      "weighted avg       0.98      0.98      0.98      1115\n",
      "\n",
      "[[964   2]\n",
      " [ 18 131]]\n",
      "\n",
      "SGDClassifier with CountVectorizer -> Accuracy: 0.9812\n",
      "              precision    recall  f1-score   support\n",
      "\n",
      "         ham       0.98      1.00      0.99       966\n",
      "        spam       0.97      0.89      0.93       149\n",
      "\n",
      "    accuracy                           0.98      1115\n",
      "   macro avg       0.98      0.94      0.96      1115\n",
      "weighted avg       0.98      0.98      0.98      1115\n",
      "\n",
      "[[962   4]\n",
      " [ 17 132]]\n",
      "\n",
      "SGDClassifier with TfidfVectorizer -> Accuracy: 0.9848\n",
      "              precision    recall  f1-score   support\n",
      "\n",
      "         ham       0.98      1.00      0.99       966\n",
      "        spam       0.99      0.89      0.94       149\n",
      "\n",
      "    accuracy                           0.98      1115\n",
      "   macro avg       0.99      0.95      0.97      1115\n",
      "weighted avg       0.98      0.98      0.98      1115\n",
      "\n",
      "[[965   1]\n",
      " [ 16 133]]\n",
      "\n",
      "OneVsRestClassifier with CountVectorizer -> Accuracy: 0.9848\n",
      "              precision    recall  f1-score   support\n",
      "\n",
      "         ham       0.98      1.00      0.99       966\n",
      "        spam       0.99      0.90      0.94       149\n",
      "\n",
      "    accuracy                           0.98      1115\n",
      "   macro avg       0.98      0.95      0.97      1115\n",
      "weighted avg       0.98      0.98      0.98      1115\n",
      "\n",
      "[[964   2]\n",
      " [ 15 134]]\n"
     ]
    },
    {
     "name": "stderr",
     "output_type": "stream",
     "text": [
      "Classifiers:  88%|████████▊ | 15/17 [01:08<00:14,  7.08s/it]"
     ]
    },
    {
     "name": "stdout",
     "output_type": "stream",
     "text": [
      "\n",
      "OneVsRestClassifier with TfidfVectorizer -> Accuracy: 0.9830\n",
      "              precision    recall  f1-score   support\n",
      "\n",
      "         ham       0.98      1.00      0.99       966\n",
      "        spam       0.98      0.89      0.93       149\n",
      "\n",
      "    accuracy                           0.98      1115\n",
      "   macro avg       0.98      0.94      0.96      1115\n",
      "weighted avg       0.98      0.98      0.98      1115\n",
      "\n",
      "[[963   3]\n",
      " [ 16 133]]\n",
      "\n",
      "OneVsRestClassifier with CountVectorizer -> Accuracy: 0.9830\n",
      "              precision    recall  f1-score   support\n",
      "\n",
      "         ham       0.98      1.00      0.99       966\n",
      "        spam       1.00      0.87      0.93       149\n",
      "\n",
      "    accuracy                           0.98      1115\n",
      "   macro avg       0.99      0.94      0.96      1115\n",
      "weighted avg       0.98      0.98      0.98      1115\n",
      "\n",
      "[[966   0]\n",
      " [ 19 130]]\n"
     ]
    },
    {
     "name": "stderr",
     "output_type": "stream",
     "text": [
      "Classifiers:  94%|█████████▍| 16/17 [01:08<00:05,  5.02s/it]"
     ]
    },
    {
     "name": "stdout",
     "output_type": "stream",
     "text": [
      "\n",
      "OneVsRestClassifier with TfidfVectorizer -> Accuracy: 0.9659\n",
      "              precision    recall  f1-score   support\n",
      "\n",
      "         ham       0.96      1.00      0.98       966\n",
      "        spam       0.99      0.75      0.85       149\n",
      "\n",
      "    accuracy                           0.97      1115\n",
      "   macro avg       0.98      0.88      0.92      1115\n",
      "weighted avg       0.97      0.97      0.96      1115\n",
      "\n",
      "[[965   1]\n",
      " [ 37 112]]\n",
      "\n",
      "KNeighborsClassifier with CountVectorizer -> Accuracy: 0.9184\n",
      "              precision    recall  f1-score   support\n",
      "\n",
      "         ham       0.91      1.00      0.96       966\n",
      "        spam       1.00      0.39      0.56       149\n",
      "\n",
      "    accuracy                           0.92      1115\n",
      "   macro avg       0.96      0.69      0.76      1115\n",
      "weighted avg       0.93      0.92      0.90      1115\n",
      "\n",
      "[[966   0]\n",
      " [ 91  58]]\n",
      "\n",
      "KNeighborsClassifier with TfidfVectorizer -> Accuracy: 0.9166\n",
      "              precision    recall  f1-score   support\n",
      "\n",
      "         ham       0.91      1.00      0.95       966\n",
      "        spam       1.00      0.38      0.55       149\n",
      "\n",
      "    accuracy                           0.92      1115\n",
      "   macro avg       0.96      0.69      0.75      1115\n",
      "weighted avg       0.92      0.92      0.90      1115\n",
      "\n",
      "[[966   0]\n",
      " [ 93  56]]\n"
     ]
    },
    {
     "name": "stderr",
     "output_type": "stream",
     "text": [
      "Classifiers: 100%|██████████| 17/17 [01:08<00:00,  4.05s/it]\n"
     ]
    }
   ],
   "source": [
    "best_accuracy = 0\n",
    "best_model = None\n",
    "best_vectorizer = None\n",
    "\n",
    "for clf in tqdm(classifiers, desc = 'Classifiers'):\n",
    "    for vec in vectorizers:\n",
    "        vec_name = vec.__class__.__name__\n",
    "        clf_name = clf.__class__.__name__\n",
    "\n",
    "        #Fit Vectorizer\n",
    "        try:\n",
    "            X_train = vec.fit_transform(train_data.v2) \n",
    "            X_test = vec.transform(test_data.v2) \n",
    "\n",
    "            #Fit CLassifier\n",
    "            clf.fit(X_train,train_data.v1)\n",
    "\n",
    "            #Predict \n",
    "            y_pred = clf.predict(X_test)\n",
    "            acc = accuracy_score(test_data.v1, y_pred)\n",
    "\n",
    "            #Store Results\n",
    "            results.append({\n",
    "                'Classifier' : clf_name,\n",
    "                'Vectorizer' : vec_name,\n",
    "                'Accuracy' : acc\n",
    "            })\n",
    "\n",
    "            if acc > best_accuracy:\n",
    "                best_accuracy = acc\n",
    "                best_model = clf\n",
    "                best_vectorizer = vec\n",
    "\n",
    "            print(f'\\n{clf_name} with {vec_name} -> Accuracy: {acc:.4f}')\n",
    "            print(classification_report(test_data.v1,y_pred,zero_division =0))\n",
    "            print(confusion_matrix(test_data.v1,y_pred))\n",
    "        \n",
    "        except Exception as e:\n",
    "\n",
    "            print(f'Error with {clf_name} and {vec_name}: {e}')"
   ]
  },
  {
   "cell_type": "code",
   "execution_count": 17,
   "id": "77aa2ed7",
   "metadata": {},
   "outputs": [
    {
     "name": "stdout",
     "output_type": "stream",
     "text": [
      "\n",
      " All done! Top results:\n",
      "                     Classifier       Vectorizer  Accuracy\n",
      "16       CalibratedClassifierCV  CountVectorizer  0.985650\n",
      "17       CalibratedClassifierCV  TfidfVectorizer  0.984753\n",
      "27                SGDClassifier  TfidfVectorizer  0.984753\n",
      "28          OneVsRestClassifier  CountVectorizer  0.984753\n",
      "21  PassiveAggressiveClassifier  TfidfVectorizer  0.983857\n",
      "29          OneVsRestClassifier  TfidfVectorizer  0.982960\n",
      "30          OneVsRestClassifier  CountVectorizer  0.982960\n",
      "25            RidgeClassifierCV  TfidfVectorizer  0.982063\n",
      "26                SGDClassifier  CountVectorizer  0.981166\n",
      "20  PassiveAggressiveClassifier  CountVectorizer  0.980269\n"
     ]
    }
   ],
   "source": [
    "#Save Results to CSV\n",
    "results_df = pd.DataFrame(results)\n",
    "results_df.sort_values(by = 'Accuracy', ascending=False, inplace=True)\n",
    "results_df.to_csv('model_results.csv',index = False)\n",
    "\n",
    "print(\"\\n All done! Top results:\")\n",
    "print(results_df.head(10))"
   ]
  },
  {
   "cell_type": "markdown",
   "id": "80849246",
   "metadata": {},
   "source": [
    "## Saving the Model and Vectorizer\n",
    "\n",
    "After identifying the best-performing model and vectorizer, we saved them along with the text preprocessing function so we don’t have to retrain everything from scratch each time. This is especially useful if we want to use the model later for predictions (like in a web app or script).\n",
    "\n",
    "We saved three things using `joblib`:\n",
    "\n",
    "- `preprocess_function.pkl` – the function that cleans and prepares raw text  \n",
    "- `best_vectorizer.pkl` – the trained TF-IDF vectorizer that turns text into numbers  \n",
    "- `best_model.pkl` – the classifier trained on our vectorized and preprocessed data\n",
    "\n",
    "These saved files can be quickly loaded later to classify new, unseen messages without having to redo all the training work.\n"
   ]
  },
  {
   "cell_type": "code",
   "execution_count": 18,
   "id": "9009ba4a",
   "metadata": {},
   "outputs": [
    {
     "name": "stdout",
     "output_type": "stream",
     "text": [
      " Final best model: CalibratedClassifierCV\n",
      " Final best vectorizer: CountVectorizer\n"
     ]
    },
    {
     "data": {
      "text/plain": [
       "['preprocess_function.pkl']"
      ]
     },
     "execution_count": 18,
     "metadata": {},
     "output_type": "execute_result"
    }
   ],
   "source": [
    "import joblib\n",
    "\n",
    "print(f\" Final best model: {best_model.__class__.__name__}\")\n",
    "print(f\" Final best vectorizer: {best_vectorizer.__class__.__name__}\")\n",
    "\n",
    "joblib.dump(best_model, 'best_model.pkl')\n",
    "joblib.dump(best_vectorizer, 'best_vectorizer.pkl')\n",
    "joblib.dump(preprocess_text,'preprocess_function.pkl')"
   ]
  },
  {
   "cell_type": "code",
   "execution_count": 19,
   "id": "0a5e7bc1",
   "metadata": {},
   "outputs": [
    {
     "data": {
      "image/png": "[encoded data removed]",
      "text/plain": [
       "<Figure size 1200x600 with 1 Axes>"
      ]
     },
     "metadata": {},
     "output_type": "display_data"
    }
   ],
   "source": [
    "results_df = pd.DataFrame(results)\n",
    "\n",
    "# Sort by accuracy and plot top 10\n",
    "top_results = results_df.sort_values(by='Accuracy', ascending=False).head(10)\n",
    "\n",
    "plt.figure(figsize=(12, 6))\n",
    "sns.barplot(data=top_results, x='Accuracy', y='Classifier', hue='Vectorizer', palette='viridis')\n",
    "plt.title('Top 10 Classifier-Vectorizer Combinations by Accuracy')\n",
    "plt.xlabel('Accuracy')\n",
    "plt.ylabel('Classifier')\n",
    "plt.legend(title='Vectorizer', bbox_to_anchor=(1.05, 1), loc='upper left')\n",
    "plt.tight_layout()\n",
    "plt.show()"
   ]
  },
  {
   "cell_type": "code",
   "execution_count": 20,
   "id": "53699efd",
   "metadata": {},
   "outputs": [
    {
     "data": {
      "image/png": "[encoded data removed]",
      "text/plain": [
       "<Figure size 600x400 with 2 Axes>"
      ]
     },
     "metadata": {},
     "output_type": "display_data"
    }
   ],
   "source": [
    "y_pred_best = best_model.predict(X_test)\n",
    "\n",
    "# Plot heatmap\n",
    "cm = confusion_matrix(test_data.v1, y_pred_best, labels=['ham', 'spam'])\n",
    "plt.figure(figsize=(6, 4))\n",
    "sns.heatmap(cm, annot=True, fmt='d', cmap='viridis',xticklabels=['ham', 'spam'], yticklabels=['ham', 'spam'])\n",
    "plt.title(f'Confusion Matrix: {best_model.__class__.__name__} + {best_vectorizer.__class__.__name__}')\n",
    "plt.xlabel('Predicted')\n",
    "plt.ylabel('Actual')\n",
    "plt.tight_layout()\n",
    "plt.show()"
   ]
  },
  {
   "cell_type": "code",
   "execution_count": 21,
   "id": "c6466c30",
   "metadata": {},
   "outputs": [
    {
     "data": {
      "image/png": "[encoded data removed]",
      "text/plain": [
       "<Figure size 1400x600 with 1 Axes>"
      ]
     },
     "metadata": {},
     "output_type": "display_data"
    }
   ],
   "source": [
    "results_df = pd.DataFrame(results)\n",
    "plt.figure(figsize=(14,6))\n",
    "sns.barplot(data=results_df, x='Classifier', y='Accuracy', hue='Vectorizer')\n",
    "plt.xticks(rotation=45)\n",
    "plt.title('Classifier Accuracy Comparison')\n",
    "plt.tight_layout()\n",
    "plt.show()"
   ]
  },
  {
   "cell_type": "code",
   "execution_count": 22,
   "id": "394f59ac",
   "metadata": {},
   "outputs": [
    {
     "name": "stdout",
     "output_type": "stream",
     "text": [
      "Best Model: CalibratedClassifierCV with CountVectorizer — Accuracy: 98.57%\n"
     ]
    }
   ],
   "source": [
    "best_result = max(results, key=lambda x: x['Accuracy'])\n",
    "print(f\"Best Model: {best_result['Classifier']} with {best_result['Vectorizer']} — Accuracy: {best_result['Accuracy']:.2%}\")"
   ]
  },
  {
   "cell_type": "markdown",
   "id": "c1b35883",
   "metadata": {},
   "source": [
    "## Prediction on Unseen Messages\n",
    "\n",
    "To simulate real-world usage, unseen SMS messages were processed using the saved preprocessing function and vectorizer. Predictions were made using the best-performing model and the results were saved to a CSV file for analysis.\n",
    "\n",
    "This step demonstrates the model's ability to generalize beyond the training data.\n"
   ]
  },
  {
   "cell_type": "code",
   "execution_count": 29,
   "id": "8fa666aa",
   "metadata": {},
   "outputs": [],
   "source": [
    "unseen_messages = [\n",
    "    \"Congratulations! You've won a $1000 Walmart gift card. Go to http://bit.ly/123456 to claim now.\",\n",
    "    \"Are we still meeting at 6pm today?\",\n",
    "    \"URGENT! Your mobile number has won £2000 cash! Call 09061701461 now.\",\n",
    "    \"Hey, can you send me the notes from today's class?\",\n",
    "    \"Don't forget to bring the documents for the meeting tomorrow.\",\n",
    "    \"You have been selected for a free holiday trip. Reply YES to claim!\",\n",
    "    \"Dinner at my place tonight? Let me know!\",\n",
    "    \"Win a brand new iPhone just by answering a short survey. Click here to start!\"\n",
    "]\n"
   ]
  },
  {
   "cell_type": "code",
   "execution_count": 30,
   "id": "4b5c81a3",
   "metadata": {},
   "outputs": [],
   "source": [
    "model = joblib.load('best_model.pkl')\n",
    "vectorizer = joblib.load('best_vectorizer.pkl')\n",
    "preprocess_sms = joblib.load('preprocess_function.pkl')\n",
    "\n",
    "cleaned_messages = [preprocess_sms(msg) for msg in unseen_messages]\n",
    "X_unseen = vectorizer.transform(cleaned_messages)\n",
    "predictions = model.predict(X_unseen)"
   ]
  },
  {
   "cell_type": "code",
   "execution_count": 31,
   "id": "e61f877a",
   "metadata": {},
   "outputs": [
    {
     "name": "stdout",
     "output_type": "stream",
     "text": [
      "[spam] Congratulations! You've won a $1000 Walmart gift card. Go to http://bit.ly/123456 to claim now.\n",
      "[ham] Are we still meeting at 6pm today?\n",
      "[spam] URGENT! Your mobile number has won £2000 cash! Call 09061701461 now.\n",
      "[ham] Hey, can you send me the notes from today's class?\n",
      "[ham] Don't forget to bring the documents for the meeting tomorrow.\n",
      "[spam] You have been selected for a free holiday trip. Reply YES to claim!\n",
      "[ham] Dinner at my place tonight? Let me know!\n",
      "[spam] Win a brand new iPhone just by answering a short survey. Click here to start!\n"
     ]
    }
   ],
   "source": [
    "for msg,label in zip(unseen_messages,predictions):\n",
    "    print(f'[{label}] {msg}')"
   ]
  },
  {
   "cell_type": "markdown",
   "id": "82b2e713",
   "metadata": {},
   "source": [
    "## Project Summary\n",
    "\n",
    "This notebook presents a complete workflow for building a spam SMS classifier using machine learning. The model achieves high accuracy on the test set and generalizes well to unseen messages.\n",
    "\n",
    "Key highlights:\n",
    "- Compared multiple vectorizer-classifier pairs\n",
    "- Selected SGDClassifier with TfidfVectorizer as the best model\n",
    "- Augmented the training data with synthetic spam messages\n",
    "- Built a reusable pipeline for predicting future SMS messages\n"
   ]
  }
 ],
 "metadata": {
  "kernelspec": {
   "display_name": "tf",
   "language": "python",
   "name": "python3"
  },
  "language_info": {
   "codemirror_mode": {
    "name": "ipython",
    "version": 3
   },
   "file_extension": ".py",
   "mimetype": "text/x-python",
   "name": "python",
   "nbconvert_exporter": "python",
   "pygments_lexer": "ipython3",
   "version": "3.10.18"
  }
 },
 "nbformat": 4,
 "nbformat_minor": 5
}
